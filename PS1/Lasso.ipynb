{
 "cells": [
  {
   "cell_type": "markdown",
   "metadata": {},
   "source": [
    "# CSE546 - HW1 Li Zeng"
   ]
  },
  {
   "cell_type": "code",
   "execution_count": 11,
   "metadata": {
    "collapsed": true
   },
   "outputs": [],
   "source": [
    "import numpy as np\n",
    "from scipy.sparse import csc_matrix\n",
    "import scipy.io as io"
   ]
  },
  {
   "cell_type": "markdown",
   "metadata": {},
   "source": [
    "Part-1 Building Synthetic Data"
   ]
  },
  {
   "cell_type": "code",
   "execution_count": 12,
   "metadata": {
    "collapsed": true
   },
   "outputs": [],
   "source": [
    "#set parameter\n",
    "N = 50\n",
    "d = 75\n",
    "k = 5\n",
    "sigma = 10"
   ]
  },
  {
   "cell_type": "code",
   "execution_count": 13,
   "metadata": {
    "collapsed": false
   },
   "outputs": [],
   "source": [
    "X = csc_matrix(np.random.randn(N, d))"
   ]
  },
  {
   "cell_type": "code",
   "execution_count": 14,
   "metadata": {
    "collapsed": true
   },
   "outputs": [],
   "source": [
    "w_star_0 = 0\n",
    "w_star = np.zeros(d)"
   ]
  },
  {
   "cell_type": "code",
   "execution_count": 15,
   "metadata": {
    "collapsed": true
   },
   "outputs": [],
   "source": [
    "y = np.zeros(N)"
   ]
  },
  {
   "cell_type": "code",
   "execution_count": 16,
   "metadata": {
    "collapsed": false
   },
   "outputs": [],
   "source": [
    "#generate sign pattern for the first k elements in w*\n",
    "#from random import randint\n",
    "sign_seed = np.random.randn(k)\n",
    "w_star_0 = 0\n",
    "for i in range(k):\n",
    "    w_star[i] = np.sign(sign_seed[i])*10"
   ]
  },
  {
   "cell_type": "code",
   "execution_count": 17,
   "metadata": {
    "collapsed": false
   },
   "outputs": [],
   "source": [
    "e = sigma*np.random.randn(N)"
   ]
  },
  {
   "cell_type": "code",
   "execution_count": 18,
   "metadata": {
    "collapsed": false
   },
   "outputs": [],
   "source": [
    "for i in range(N):\n",
    "    y[i] = w_star[0] + e[i]\n",
    "    for j in range(k):\n",
    "        y[i] += w_star[j]*X[i,j]"
   ]
  },
  {
   "cell_type": "markdown",
   "metadata": {},
   "source": [
    "Part-2 Implementing Coordinate Descent"
   ]
  },
  {
   "cell_type": "code",
   "execution_count": 19,
   "metadata": {
    "collapsed": false
   },
   "outputs": [
    {
     "name": "stdout",
     "output_type": "stream",
     "text": [
      "1153.98807459\n"
     ]
    }
   ],
   "source": [
    "#Calculate initial lambda\n",
    "y_mean = np.mean(y)\n",
    "lambd_max = 2*np.absolute(X.transpose().dot(y-y_mean)).max()\n",
    "print lambd_max"
   ]
  },
  {
   "cell_type": "code",
   "execution_count": 10,
   "metadata": {
    "collapsed": false
   },
   "outputs": [
    {
     "name": "stdout",
     "output_type": "stream",
     "text": [
      "Experiment times: 1\n",
      "lambda =  1385.57566642\n"
     ]
    },
    {
     "ename": "ZeroDivisionError",
     "evalue": "float division by zero",
     "output_type": "error",
     "traceback": [
      "\u001b[1;31m---------------------------------------------------------------------------\u001b[0m",
      "\u001b[1;31mZeroDivisionError\u001b[0m                         Traceback (most recent call last)",
      "\u001b[1;32m<ipython-input-10-fb1c7991fce4>\u001b[0m in \u001b[0;36m<module>\u001b[1;34m()\u001b[0m\n\u001b[0;32m     75\u001b[0m                 \u001b[0mcorrect_nonzeros\u001b[0m \u001b[1;33m+=\u001b[0m \u001b[1;36m1\u001b[0m\u001b[1;33m\u001b[0m\u001b[0m\n\u001b[0;32m     76\u001b[0m             \u001b[0mtotal_nonzeros\u001b[0m \u001b[1;33m+=\u001b[0m \u001b[1;36m1\u001b[0m\u001b[1;33m\u001b[0m\u001b[0m\n\u001b[1;32m---> 77\u001b[1;33m     \u001b[0mprecision_ar\u001b[0m\u001b[1;33m[\u001b[0m\u001b[0mm\u001b[0m\u001b[1;33m]\u001b[0m \u001b[1;33m=\u001b[0m \u001b[0mcorrect_nonzeros\u001b[0m \u001b[1;33m/\u001b[0m \u001b[0mfloat\u001b[0m\u001b[1;33m(\u001b[0m\u001b[0mtotal_nonzeros\u001b[0m\u001b[1;33m)\u001b[0m\u001b[1;33m\u001b[0m\u001b[0m\n\u001b[0m\u001b[0;32m     78\u001b[0m     \u001b[0mrecall_ar\u001b[0m\u001b[1;33m[\u001b[0m\u001b[0mm\u001b[0m\u001b[1;33m]\u001b[0m \u001b[1;33m=\u001b[0m \u001b[0mcorrect_nonzeros\u001b[0m \u001b[1;33m/\u001b[0m \u001b[0mfloat\u001b[0m\u001b[1;33m(\u001b[0m\u001b[0mk\u001b[0m\u001b[1;33m)\u001b[0m\u001b[1;33m\u001b[0m\u001b[0m\n\u001b[0;32m     79\u001b[0m     \u001b[1;32mprint\u001b[0m \u001b[1;34m\"correct_nonzeros: \"\u001b[0m\u001b[1;33m,\u001b[0m\u001b[0mcorrect_nonzeros\u001b[0m\u001b[1;33m\u001b[0m\u001b[0m\n",
      "\u001b[1;31mZeroDivisionError\u001b[0m: float division by zero"
     ]
    }
   ],
   "source": [
    "experi_times = 15\n",
    "lambd_ar = np.zeros(experi_times)\n",
    "precision_ar = np.zeros(experi_times)\n",
    "recall_ar = np.zeros(experi_times)\n",
    "lambd_ar[0] = lambd_max\n",
    "for m in range(0,experi_times):\n",
    "    print \"Experiment times:\", m+1\n",
    "    #Initialization block\n",
    "    if m != 0:\n",
    "        lambd_ar[m] = lambd_ar[m-1]*0.9\n",
    "    print \"lambda = \", lambd_ar[m]\n",
    "    lambd = lambd_ar[m]\n",
    "    w_0 = np.random.randn()\n",
    "    w = np.random.randn(d)\n",
    "    #Set stop conditions\n",
    "    alpha = 1\n",
    "    first = True\n",
    "    flag = False\n",
    "    w_max_change = 0\n",
    "    #Runtime\n",
    "    #runtime = 1\n",
    "    \n",
    "    #main_function block\n",
    "    while first or flag:\n",
    "        first = False\n",
    "        flag = False\n",
    "        #print \"Runtime: \", runtime\n",
    "        #print \"w_max_change: \", w_max_change\n",
    "        w_max_change = 0\n",
    "        y_hat = X.dot(w) + w_0\n",
    "        #update w_0\n",
    "        #initialize\n",
    "        t0 = 0\n",
    "        w_0_new = 0\n",
    "        for i in range(N):\n",
    "            t0 += y[i] - y_hat[i]\n",
    "            w_0_new += t0 + w_0\n",
    "        w_0 = w_0_new/float(N)\n",
    "        #update y_hat\n",
    "        y_hat_new = y_hat + t0/float(N)\n",
    "        y_hat = y_hat_new\n",
    "\n",
    "        for j in range(d):\n",
    "            t1 = 0\n",
    "            t2 = 0\n",
    "            for i in range(N): \n",
    "                t1 += (y[i] - y_hat[i] + w[j]*X[i,j])*X[i,j]\n",
    "                t2 += X[i,j]*X[i,j]\n",
    "                #w_j_old = w[j]*X[i,j]\n",
    "            c_j = 2*t1\n",
    "            a_j = float(2*t2)\n",
    "            if c_j + lambd < 0:\n",
    "                w_j_new = (c_j+lambd)/a_j\n",
    "            elif c_j - lambd > 0:\n",
    "                w_j_new = (c_j-lambd)/a_j\n",
    "            else:\n",
    "                w_j_new = 0\n",
    "            for i in range(N):\n",
    "                y_i_new = y_hat[i] - X[i,j]*w[j] + X[i,j]*w_j_new\n",
    "                y_hat[i] = y_i_new\n",
    "            w_change = np.absolute(w_j_new - w[j])\n",
    "            if w_change > alpha:\n",
    "                flag = True\n",
    "            if w_change > w_max_change:\n",
    "                w_max_change = w_change\n",
    "            w[j] = w_j_new\n",
    "        #runtime += 1\n",
    "        #print w\n",
    "    #performance analysis block\n",
    "    total_nonzeros = 0\n",
    "    correct_nonzeros = 0\n",
    "    for i in range(d):\n",
    "        if w[i] != 0:            \n",
    "            if w_star[i] != 0:\n",
    "                correct_nonzeros += 1\n",
    "            total_nonzeros += 1\n",
    "    precision_ar[m] = correct_nonzeros / float(total_nonzeros)\n",
    "    recall_ar[m] = correct_nonzeros / float(k)\n",
    "    print \"correct_nonzeros: \",correct_nonzeros\n",
    "    print \"total_nonzeros: \", total_nonzeros\n",
    "    print \"precision = \", precision_ar[m]\n",
    "    print \"recall = \", recall_ar[m]"
   ]
  },
  {
   "cell_type": "code",
   "execution_count": 103,
   "metadata": {
    "collapsed": false
   },
   "outputs": [
    {
     "data": {
      "text/plain": [
       "<matplotlib.text.Text at 0x12eefe10>"
      ]
     },
     "execution_count": 103,
     "metadata": {},
     "output_type": "execute_result"
    },
    {
     "data": {
      "image/png": "[encoded data removed]",
      "text/plain": [
       "<matplotlib.figure.Figure at 0x12aa1278>"
      ]
     },
     "metadata": {},
     "output_type": "display_data"
    }
   ],
   "source": [
    "%matplotlib inline  \n",
    "import matplotlib.pyplot as plt  \n",
    "from pylab import *\n",
    "\n",
    "x = lambd_ar\n",
    "\n",
    "plt.plot(x, precision_ar, 'bs',  x, recall_ar, 'g^')\n",
    "plt.legend(['Precision','Recall'])\n",
    "plt.xlabel('Lambda')\n",
    "plt.ylabel('Value')"
   ]
  },
  {
   "cell_type": "code",
   "execution_count": 99,
   "metadata": {
    "collapsed": false
   },
   "outputs": [
    {
     "name": "stdout",
     "output_type": "stream",
     "text": [
      "470\n",
      "precision =  0.714285714286\n",
      "recall =  1.0\n"
     ]
    }
   ],
   "source": [
    "#Initialize w_0 and w\n",
    "w_0 = np.random.randn()\n",
    "w = np.random.randn(d)\n",
    "#Set stop conditions\n",
    "alpha = 1\n",
    "first = True\n",
    "flag = False\n",
    "w_max_change = 0\n",
    "lambd = 470\n",
    "#Runtime\n",
    "runtime = 1\n",
    "print lambd\n",
    "    \n",
    "#main_function block\n",
    "while first or flag:\n",
    "    first = False\n",
    "    flag = False\n",
    "    #print \"Runtime: \", runtime\n",
    "    #print \"w_max_change: \", w_max_change\n",
    "    w_max_change = 0\n",
    "    y_hat = X.dot(w) + w_0\n",
    "    #update w_0\n",
    "    #initialize\n",
    "    t0 = 0\n",
    "    w_0_new = 0\n",
    "    for i in range(N):\n",
    "        t0 += y[i] - y_hat[i]\n",
    "        w_0_new += t0 + w_0\n",
    "    w_0 = w_0_new/float(N)\n",
    "    #update y_hat\n",
    "    y_hat_new = y_hat + t0/float(N)\n",
    "    y_hat = y_hat_new\n",
    "\n",
    "    for j in range(d):\n",
    "        t1 = 0\n",
    "        t2 = 0\n",
    "        for i in range(N): \n",
    "            t1 += (y[i] - y_hat[i] + w[j]*X[i,j])*X[i,j]\n",
    "            t2 += X[i,j]*X[i,j]\n",
    "            #w_j_old = w[j]*X[i,j]\n",
    "        c_j = 2*t1\n",
    "        a_j = float(2*t2)\n",
    "        if c_j + lambd < 0:\n",
    "            w_j_new = (c_j+lambd)/a_j\n",
    "        elif c_j - lambd > 0:\n",
    "            w_j_new = (c_j-lambd)/a_j\n",
    "        else:\n",
    "            w_j_new = 0\n",
    "        for i in range(N):\n",
    "            y_i_new = y_hat[i] - X[i,j]*w[j] + X[i,j]*w_j_new\n",
    "            y_hat[i] = y_i_new\n",
    "        w_change = np.absolute(w_j_new - w[j])\n",
    "        if w_change > alpha:\n",
    "            flag = True\n",
    "        if w_change > w_max_change:\n",
    "            w_max_change = w_change\n",
    "        w[j] = w_j_new\n",
    "\n",
    "total_nonzeros = 0\n",
    "correct_nonzeros = 0\n",
    "for i in range(d):\n",
    "    if w[i] != 0:            \n",
    "        if w_star[i] != 0:\n",
    "            correct_nonzeros += 1\n",
    "        total_nonzeros += 1\n",
    "precision = correct_nonzeros / float(total_nonzeros)\n",
    "recall = correct_nonzeros / float(k)\n",
    "\n",
    "print \"precision = \", precision\n",
    "print \"recall = \", recall"
   ]
  }
 ],
 "metadata": {
  "kernelspec": {
   "display_name": "Python 2",
   "language": "python",
   "name": "python2"
  },
  "language_info": {
   "codemirror_mode": {
    "name": "ipython",
    "version": 2
   },
   "file_extension": ".py",
   "mimetype": "text/x-python",
   "name": "python",
   "nbconvert_exporter": "python",
   "pygments_lexer": "ipython2",
   "version": "2.7.10"
  }
 },
 "nbformat": 4,
 "nbformat_minor": 0
}

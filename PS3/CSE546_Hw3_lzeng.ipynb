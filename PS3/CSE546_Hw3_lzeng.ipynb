{
 "cells": [
  {
   "cell_type": "code",
   "execution_count": 20,
   "metadata": {
    "collapsed": true
   },
   "outputs": [],
   "source": [
    "import numpy as np\n",
    "from numpy import linalg as ll\n",
    "%matplotlib inline\n",
    "import matplotlib\n",
    "import matplotlib.pyplot as plt"
   ]
  },
  {
   "cell_type": "code",
   "execution_count": 21,
   "metadata": {
    "collapsed": false
   },
   "outputs": [],
   "source": [
    "def loaddata(fname):\n",
    "    data = np.loadtxt(fname,skiprows=1, delimiter=',')\n",
    "    y = data[:,0]\n",
    "    X = data[:,1:]\n",
    "    nm = np.sqrt(np.sum(X * X, axis=1))\n",
    "    X = X / nm[:,None]\n",
    "    return y, X\n",
    "trainY, trainX = loaddata('E:\\\\0. PhD\\\\Autumn 2015\\\\CSE546_ML\\\\hw\\\\hw3-data\\\\validation.csv')\n",
    "testY, testX = loaddata('E:\\\\0. PhD\\\\Autumn 2015\\\\CSE546_ML\\\\hw\\\\hw3-data\\\\test.csv')"
   ]
  },
  {
   "cell_type": "markdown",
   "metadata": {},
   "source": [
    "###Initialization"
   ]
  },
  {
   "cell_type": "code",
   "execution_count": 22,
   "metadata": {
    "collapsed": false
   },
   "outputs": [
    {
     "name": "stdout",
     "output_type": "stream",
     "text": [
      "The dimension of the trainX is:  1000 784\n"
     ]
    }
   ],
   "source": [
    "#Get # of training data and # of features\n",
    "N = len(trainX)\n",
    "d = len(trainX[0,:])\n",
    "print \"The dimension of the trainX is: \", N,d\n",
    "\n",
    "#Constants assignment\n",
    "pass_num = 50\n",
    "eta = 0.1\n",
    "C = 100\n",
    "\n",
    "#initialize w and w0\n",
    "w = np.zeros(d)\n",
    "w0 = 0\n",
    "\n",
    "#Convert into Matrix format\n",
    "trainX = np.matrix(trainX)\n",
    "#trainY = np.matrix(trainY)\n",
    "testX = np.matrix(testX)\n",
    "#testY = np.matrix(testY)\n",
    "#w = np.matrix(w)"
   ]
  },
  {
   "cell_type": "markdown",
   "metadata": {},
   "source": [
    "###Pseudo codes\n",
    "x_t and y_t should be real training data"
   ]
  },
  {
   "cell_type": "markdown",
   "metadata": {},
   "source": [
    "w1 <- 0\n",
    "\n",
    "for t = 1 to T do (for each iteration, we use 1 record)\n",
    "\n",
    "    Get x_t ∈ Rd\n",
    "    \n",
    "    Predict sgn(wt · xt + w0)\n",
    "    \n",
    "    Get y_t ∈ {−1, +1}\n",
    "    \n",
    "    if y_t(wt · xt + w0) < 1 then\n",
    "        w0^(t+1) ← w0^(t)+ηy_t\n",
    "    \n",
    "        w^(t+1) ← w^(t) -η(2/NC w^(t)-y_tx_t)\n",
    "        \n",
    "    else\n",
    "        w0^(t+1) ← w0^(t)\n",
    "        w^(t+1) ← w^(t)\n",
    "        \n",
    "    end if\n",
    "    \n",
    "end for\n"
   ]
  },
  {
   "cell_type": "code",
   "execution_count": 23,
   "metadata": {
    "collapsed": true
   },
   "outputs": [],
   "source": [
    "loss_ar = []\n",
    "#loss_each = []\n",
    "for p in range(0,pass_num):\n",
    "    loss = 0\n",
    "    for t in range(0,N):\n",
    "        y_hat = w*trainX[t,:].T + w0\n",
    "        loss_t = 1-trainY[t]*y_hat\n",
    "        if loss_t > 0:\n",
    "            w0 = w0 + eta*trainY[t]\n",
    "            w = w - eta*(2/float(N*C)*w-trainY[t]*trainX[t,:])\n",
    "            loss += float(loss_t)\n",
    "    loss_ar.append(loss / float(N))"
   ]
  },
  {
   "cell_type": "code",
   "execution_count": 24,
   "metadata": {
    "collapsed": false
   },
   "outputs": [],
   "source": [
    "def plotting(x_axis,y_axis):\n",
    "\n",
    "    matplotlib.rcParams.update({'font.size': 15, 'font.family': 'STIXGeneral', 'mathtext.fontset': 'stix'})\n",
    "    fig, ax = plt.subplots()\n",
    "    ax.plot(x_axis, y_axis, color=\"green\")\n",
    "    ax.set_xlabel('Pass')\n",
    "    ax.set_ylabel('Loss')"
   ]
  },
  {
   "cell_type": "code",
   "execution_count": 25,
   "metadata": {
    "collapsed": false
   },
   "outputs": [
    {
     "data": {
      "text/plain": [
       "50"
      ]
     },
     "execution_count": 25,
     "metadata": {},
     "output_type": "execute_result"
    }
   ],
   "source": [
    "len(range(1,len(loss_ar)+1))"
   ]
  },
  {
   "cell_type": "code",
   "execution_count": 26,
   "metadata": {
    "collapsed": false
   },
   "outputs": [
    {
     "data": {
      "text/plain": [
       "[0.4444902553497879,\n",
       " 0.22461695399760484,\n",
       " 0.18162402809098446,\n",
       " 0.1573839955231453,\n",
       " 0.141474242158781,\n",
       " 0.1332220873943911,\n",
       " 0.12383884028102066,\n",
       " 0.1161303090840033,\n",
       " 0.1114113004600173,\n",
       " 0.10699854066707996,\n",
       " 0.1018295624012128,\n",
       " 0.09827318247318186,\n",
       " 0.09483382200880529,\n",
       " 0.09207370808222762,\n",
       " 0.0887230858627941,\n",
       " 0.08631099280248343,\n",
       " 0.08488613338682198,\n",
       " 0.0812243684931226,\n",
       " 0.07778486799718196,\n",
       " 0.07716153171979194,\n",
       " 0.07550419218999965,\n",
       " 0.07250681776568099,\n",
       " 0.07225262821073489,\n",
       " 0.07035377768063251,\n",
       " 0.0692709988988264,\n",
       " 0.06668859672339952,\n",
       " 0.06704928362301811,\n",
       " 0.06535219655019057,\n",
       " 0.06445200361921424,\n",
       " 0.06437448298690751,\n",
       " 0.0625824521875311,\n",
       " 0.060694237918009,\n",
       " 0.06089208392140188,\n",
       " 0.05921100032944699,\n",
       " 0.05874716911793118,\n",
       " 0.05715882383501392,\n",
       " 0.0561351455670063,\n",
       " 0.055929403546813104,\n",
       " 0.05424222872398378,\n",
       " 0.05400314715899426,\n",
       " 0.05253336280591995,\n",
       " 0.05145102740291777,\n",
       " 0.05010585337161406,\n",
       " 0.05057185001648219,\n",
       " 0.04932374774796632,\n",
       " 0.04902134839413169,\n",
       " 0.047394043056013115,\n",
       " 0.04807453634614051,\n",
       " 0.04653324965505695,\n",
       " 0.04679140232766687]"
      ]
     },
     "execution_count": 26,
     "metadata": {},
     "output_type": "execute_result"
    }
   ],
   "source": [
    "loss_ar"
   ]
  },
  {
   "cell_type": "code",
   "execution_count": 27,
   "metadata": {
    "collapsed": false
   },
   "outputs": [
    {
     "data": {
      "image/png": "[encoded data removed]",
      "text/plain": [
       "<matplotlib.figure.Figure at 0xab086a0>"
      ]
     },
     "metadata": {},
     "output_type": "display_data"
    }
   ],
   "source": [
    "plotting(range(len(loss_ar)),loss_ar)"
   ]
  },
  {
   "cell_type": "markdown",
   "metadata": {},
   "source": [
    "### Prediction"
   ]
  },
  {
   "cell_type": "code",
   "execution_count": 28,
   "metadata": {
    "collapsed": false
   },
   "outputs": [
    {
     "name": "stdout",
     "output_type": "stream",
     "text": [
      "13 62\n"
     ]
    }
   ],
   "source": [
    "N_test = len(testY)\n",
    "trainMistake = 0\n",
    "testMistake = 0\n",
    "for i in range(N):\n",
    "    trainY_hat = 1 if (w*trainX[i,:].T + w0) > 0 else -1\n",
    "    if trainY_hat != trainY[i]:\n",
    "        trainMistake += 1\n",
    "#prediction = []\n",
    "for i in range(N_test):\n",
    "    testY_hat = 1 if (w*testX[i,:].T + w0) > 0 else -1\n",
    "    if testY_hat != testY[i]:\n",
    "        testMistake += 1\n",
    "    #prediction.append(testY_hat)\n",
    "print trainMistake, testMistake"
   ]
  },
  {
   "cell_type": "code",
   "execution_count": 29,
   "metadata": {
    "collapsed": false
   },
   "outputs": [
    {
     "name": "stdout",
     "output_type": "stream",
     "text": [
      "27.3592710735\n"
     ]
    }
   ],
   "source": [
    "print ll.norm(w)"
   ]
  }
 ],
 "metadata": {
  "kernelspec": {
   "display_name": "Python 2",
   "language": "python",
   "name": "python2"
  },
  "language_info": {
   "codemirror_mode": {
    "name": "ipython",
    "version": 2
   },
   "file_extension": ".py",
   "mimetype": "text/x-python",
   "name": "python",
   "nbconvert_exporter": "python",
   "pygments_lexer": "ipython2",
   "version": "2.7.10"
  }
 },
 "nbformat": 4,
 "nbformat_minor": 0
}

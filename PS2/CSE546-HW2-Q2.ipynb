{
 "cells": [
  {
   "cell_type": "markdown",
   "metadata": {},
   "source": [
    "# Question 2"
   ]
  },
  {
   "cell_type": "code",
   "execution_count": 43,
   "metadata": {
    "collapsed": true
   },
   "outputs": [],
   "source": [
    "from __future__ import division\n",
    "import numpy as np\n",
    "from numpy import *\n",
    "import random\n",
    "from numpy import linalg as ll\n",
    "%matplotlib inline\n",
    "import matplotlib\n",
    "import matplotlib.pyplot as plt"
   ]
  },
  {
   "cell_type": "markdown",
   "metadata": {},
   "source": [
    "## Question 2.4 - Implement Batch Gradient Descent"
   ]
  },
  {
   "cell_type": "code",
   "execution_count": 49,
   "metadata": {
    "collapsed": false
   },
   "outputs": [],
   "source": [
    "def read_data(path):\n",
    "    \n",
    "    training_data = genfromtxt( path + 'train.txt', delimiter=',')\n",
    "    \n",
    "    Y_train = training_data[:,0]\n",
    "    X_train = training_data[:, 1:]\n",
    "    Y_test = genfromtxt( path + 'test_label.txt', delimiter=',')\n",
    "    X_test = genfromtxt( path + 'test.txt', delimiter=',')\n",
    "    return X_train, Y_train, X_test, Y_test"
   ]
  },
  {
   "cell_type": "code",
   "execution_count": 44,
   "metadata": {
    "collapsed": true
   },
   "outputs": [],
   "source": [
    "def sigmoid_1(x, j, w, w0):\n",
    "    x_j = x[j,:]\n",
    "    expterm = exp(w0 + (np.matrix(w.T) * np.matrix(x_j).T)[0,0])\n",
    "    result  = expterm/(1+expterm)\n",
    "    return result"
   ]
  },
  {
   "cell_type": "code",
   "execution_count": 45,
   "metadata": {
    "collapsed": true
   },
   "outputs": [],
   "source": [
    "def neg_log_loss(p_y_1_ar, y, w, lamb):\n",
    "    ln_sigmoid_sum = 0.0\n",
    "    for i in range(len(y)):\n",
    "        temp = p_y_1_ar[i] if y[i]==1 else 1-p_y_1_ar[i]\n",
    "        ln_sigmoid_sum += np.log(temp)\n",
    "\n",
    "    log_loss = 0.5*lamb*(ll.norm(w))**2-ln_sigmoid_sum/float(len(y))\n",
    "    return log_loss"
   ]
  },
  {
   "cell_type": "code",
   "execution_count": 110,
   "metadata": {
    "collapsed": false
   },
   "outputs": [
    {
     "name": "stdout",
     "output_type": "stream",
     "text": [
      "\n"
     ]
    }
   ],
   "source": [
    "import sklearn.metrics\n",
    "def predict_score(x_test, y_test,w,w0):\n",
    "    n = len(x_test)\n",
    "    d = len(x_test[0,:])\n",
    "    prediction = np.zeros(n)\n",
    "    #predict\n",
    "    for j in range(n):\n",
    "        prediction[j] = 1 if sigmoid_1(x_test, j, w, w0) > 0.5 else 0\n",
    "                \n",
    "    #compute sse\n",
    "    sse = ll.norm(y_test-prediction)**2\n",
    "    result1 = sklearn.metrics.precision_recall_fscore_support(y_test, prediction,average = 'binary', pos_label = 0)\n",
    "    result2 = sklearn.metrics.precision_recall_fscore_support(y_test, prediction,average = 'binary', pos_label = 1)\n",
    "     \n",
    "    return sse, result1, result2"
   ]
  },
  {
   "cell_type": "code",
   "execution_count": 47,
   "metadata": {
    "collapsed": true
   },
   "outputs": [],
   "source": [
    "def batch_GD(x_train, y_train, eta, lamb, k):\n",
    "    n = len(x_train)\n",
    "    d = len(x_train[0,:])\n",
    "    print \"The dimension of the x_train is: \", n,d\n",
    "    #initialize w and w0\n",
    "    w = np.zeros(d)\n",
    "    w0 = 0\n",
    "    p_y_1_ar = np.zeros(n)\n",
    "    loss_ar = np.zeros(k)\n",
    "    iter_times = 0\n",
    "    \n",
    "    while iter_times < k:\n",
    "        for j in range(n):\n",
    "            p_y_1_ar[j] = sigmoid_1(x_train, j, w, w0)\n",
    "            #sum_term += y_train[j] - p_y_1_ar[j]\n",
    "        #update w0\n",
    "        #w0 = w0 + eta*sum_term/float(n)\n",
    "        w0 = w0 + eta*sum(y_train-p_y_1_ar)/float(n)\n",
    "        for i in range(d):\n",
    "            w[i] = w[i] +eta*(-lamb*w[i]+1/float(n)*(np.matrix(x_train[:,i])*np.matrix(y_train-p_y_1_ar.T).T)[0,0])\n",
    "        loss_ar[iter_times] = neg_log_loss(p_y_1_ar, y_train, w, lamb)\n",
    "        iter_times += 1\n",
    "        print iter_times,\n",
    "    return loss_ar, w, w0\n",
    "    #score = predict_score(x_test, y_test,w,w0)\n",
    "        "
   ]
  },
  {
   "cell_type": "code",
   "execution_count": 65,
   "metadata": {
    "collapsed": true
   },
   "outputs": [],
   "source": [
    "def batch_GD_stop(x_train, y_train, eta, lamb, epsilon):\n",
    "    n = len(x_train)\n",
    "    d = len(x_train[0,:])\n",
    "    print \"The dimension of the x_train is: \", n,d\n",
    "    #initialize w and w0\n",
    "    w = np.zeros(d)\n",
    "    w0 = 0\n",
    "    p_y_1_ar = np.zeros(n)\n",
    "    loss_ar = [1000]\n",
    "    diff = 1000\n",
    "    iter_times = 0\n",
    "    \n",
    "    while diff > epsilon:\n",
    "        for j in range(n):\n",
    "            p_y_1_ar[j] = sigmoid_1(x_train, j, w, w0)\n",
    "            #sum_term += y_train[j] - p_y_1_ar[j]\n",
    "        #update w0\n",
    "        #w0 = w0 + eta*sum_term/float(n)\n",
    "        w0 = w0 + eta*sum(y_train-p_y_1_ar)/float(n)\n",
    "        for i in range(d):\n",
    "            w[i] = w[i] +eta*(-lamb*w[i]+1/float(n)*(np.matrix(x_train[:,i])*np.matrix(y_train-p_y_1_ar.T).T)[0,0])\n",
    "        loss_ar.append(neg_log_loss(p_y_1_ar, y_train, w, lamb))\n",
    "        diff = abs(loss_ar[iter_times]-loss_ar[iter_times+1])\n",
    "        iter_times += 1\n",
    "        print iter_times,\n",
    "    return loss_ar, w, w0 #the first element of loss_ar is just initialized value\n",
    "    #score = predict_score(x_test, y_test,w,w0)"
   ]
  },
  {
   "cell_type": "code",
   "execution_count": 50,
   "metadata": {
    "collapsed": true
   },
   "outputs": [],
   "source": [
    "def main():\n",
    "    path = 'E:\\\\0. PhD\\\\Autumn 2015\\\\CSE546_ML\\\\hw\\\\hw2-data\\\\clickprediction_data\\\\'\n",
    "    x_train, y_train, x_test, y_test = read_data(path)\n",
    "    eta = 0.1\n",
    "    lamb = 0.3 \n",
    "    k = 1000\n",
    "    loss, w, w0 = batch_GD(x_train, y_train, eta, lamb, k)\n",
    "    score = predict_score(x_test, y_test,w,w0)"
   ]
  },
  {
   "cell_type": "code",
   "execution_count": 71,
   "metadata": {
    "collapsed": false
   },
   "outputs": [
    {
     "name": "stdout",
     "output_type": "stream",
     "text": [
      "The dimension of the x_train is:  10000 54\n",
      "1 2 3 4 5 6 7 8 9 10 11 12 13 14 15 16 17 18 19 20 21 22 23 24 25 26 27 28 29 30 31 32 33 34 35 36 37 38 39 40 41 42 43 44 45 46 47 48 49 50 51 52 53 54 55 56 57 58 59 60 61 62 63 64 65 66 67 68 69 70 71 72 73 74 75 76 77 78 79 80 81 82 83 84 85 86 87 88 89 90 91 92 93 94 95 96 97 98 99 100 101 102 103 104 105 106 107 108 109 110 111 112 113 114 115 116 117 118 119 120 121 122 123 124 125 126 127 128 129 130 131 132 133 134 135 136 137 138 139 140 141 142 143 144 145 146 147 148 149 150 151 152 153 154 155 156 157 158 159 160 161 162 163 164 165 166 167 168 169 170 171 172 173 174 175 176 177 178 179 180 181 182 183 184 185 186 187 188 189 190 191 192 193 194 195 196 197 198 199 200 201 202 203 204 205 206 207 208 209 210 211 212 213 214 215 216 217 218 219 220 221 222 223 224 225 226 227 228 229 230 231 232 233 234 235 236 237 238 239 240 241 242 243 244 245 246 247 248 249 250 251 252 253 254 255 256 257 258 259 260 261 262 263 264 265 266 267 268 269 270 271 272 273 274 275 276 277 278 279 280 281 282 283 284 285 286 287 288 289 290 291 292 293 294 295 296 297 298 299 300 301 302 303 304 305 306 307 308 309 310 311 312 313 314 315 316 317 318 319 320 321 322 323 324 325 326 327 328 329 330 331 332 333 334 335 336 337 338 339 340 341 342 343 344 345 346 347 348 349 350 351 352 353 354 355 356 357 358 359 360 361 362 363 364 365 366 367 368 369 370 371 372 373 374 375 376 377 378 379 380 381 382 383 384 385 386 387 388 389 390 391 392 393 394 395 396 397 398 399 400 401 402 403 404 405 406 407 408 409 410 411 412 413 414 415 416 417 418 419 420 421 422 423 424 425 426 427 428 429 430 431 432 433 434 435 436 437 438 439 440 441 442 443 444 445 446 447 448 449 450 451 452 453 454 455 456 457 458 459 460 461 462 463 464 465 466 467 468 469 470 471 472 473 474 475 476 477 478 479 480 481 482 483 484 485 486 487 488 489 490 491 492 493 494 495 496 497 498 499 500 501 502 503 504 505 506 507 508 509 510 511 512 513 514 515 516 517 518 519 520 521 522 523 524 525 526 527 528 529 530 531 532 533 534 535 536 537 538 539 540 541 542 543 544 545 546 547 548 549 550 551 552 553 554 555 556 557 558 559 560 561 562 563 564 565 566 567 568 569 570 571 572 573 574 575 576 577 578 579 580 581 582 583 584 585 586 587 588 589 590 591 592 593 594 595 596 597 598 599 600 601 602 603 604 605 606 607 608 609 610 611 612 613 614 615 616 617 618 619 620 621 622 623 624 625 626 627 628 629 630 631 632 633 634 635 636 637 638 639 640 641 642 643 644 645 646 647 648 649 650 651 652 653 654 655 656 657 658 659 660 661 662 663 664 665 666 667 668 669 670 671 672 673 674 675 676 677 678 679 680 681 682 683 684 685 686 687 688 689 690 691 692 693 694 695 696 697 698 699 700 701 702 703 704 705 706 707 708 709 710 711 712 713 714 715 716 717 718 719 720 721 722 723 724 725 726 727 728 729 730 731 732 733 734 735 736 737 738 739 740 741 742 743 744 745 746 747 748 749 750 751 752 753 754 755 756 757 758 759 760 761 762 763 764 765 766 767 768 769 770 771 772 773 774 775 776 777 778 779 780 781 782 783 784 785 786 787 788 789 790 791 792 793 794 795 796 797 798 799 800 801 802 803 804 805 806 807 808 809 810 811 812 813 814 815 816 817 818 819 820 821 822 823 824 825 826 827 828 829 830 831 832 833 834 835 836 837 838 839 840 841 842 843 844 845 846 847 848 849 850 851 852 853 854 855 856 857 858 859 860 861 862 863 864 865 866 867 868 869 870 871 872 873 874 875 876 877 878 879 880 881 882 883 884 885 886 887 888 889 890 891 892 893 894 895 896 897 898 899 900 901 902 903 904 905 906 907 908 909 910 911 912 913 914 915 916 917 918 919 920 921 922 923 924 925 926 927 928 929 930 931 932 933 934 935 936 937 938 939 940 941 942 943 944 945 946 947 948 949 950 951 952 953 954 955 956 957 958 959 960 961 962 963 964 965 966 967 968 969 970 971 972 973 974 975 976 977 978 979 980 981 982 983 984 985 986 987 988 989 990 991 992 993 994 995 996 997 998 999 1000\n"
     ]
    }
   ],
   "source": [
    "path = 'E:\\\\0. PhD\\\\Autumn 2015\\\\CSE546_ML\\\\hw\\\\hw2-data\\\\clickprediction_data\\\\'\n",
    "x_train, y_train, x_test, y_test = read_data(path)\n",
    "eta = 0.1\n",
    "lamb = 0.3 \n",
    "k = 1000\n",
    "loss, w, w0 = batch_GD(x_train, y_train, eta, lamb, k)\n",
    "score = predict_score(x_test, y_test,w,w0)"
   ]
  },
  {
   "cell_type": "code",
   "execution_count": 73,
   "metadata": {
    "collapsed": false
   },
   "outputs": [
    {
     "name": "stdout",
     "output_type": "stream",
     "text": [
      "SSE is: 54.0\n"
     ]
    }
   ],
   "source": [
    "print \"SSE is:\", score"
   ]
  },
  {
   "cell_type": "code",
   "execution_count": 60,
   "metadata": {
    "collapsed": false
   },
   "outputs": [],
   "source": [
    "def plotting(x_axis,y_axis):\n",
    "\n",
    "    matplotlib.rcParams.update({'font.size': 15, 'font.family': 'STIXGeneral', 'mathtext.fontset': 'stix'})\n",
    "    fig, ax = plt.subplots()\n",
    "    ax.plot(x_axis, y_axis, color=\"green\")\n",
    "    \n",
    "    #x_start, x_end = ax.get_xlim()\n",
    "    #ax.set_xticks(np.arange(x_start, x_end, x_axis_step))"
   ]
  },
  {
   "cell_type": "code",
   "execution_count": 61,
   "metadata": {
    "collapsed": false
   },
   "outputs": [
    {
     "data": {
      "image/png": "[encoded data removed]",
      "text/plain": [
       "<matplotlib.figure.Figure at 0xadfcd30>"
      ]
     },
     "metadata": {},
     "output_type": "display_data"
    }
   ],
   "source": [
    "plotting(range(0,1000),loss)"
   ]
  },
  {
   "cell_type": "code",
   "execution_count": 66,
   "metadata": {
    "collapsed": false
   },
   "outputs": [
    {
     "name": "stdout",
     "output_type": "stream",
     "text": [
      "The dimension of the x_train is:  10000 54\n",
      "1 2 3 4 5 6 7 8 9 10 11 12 13 14 15\n"
     ]
    }
   ],
   "source": [
    "path = 'E:\\\\0. PhD\\\\Autumn 2015\\\\CSE546_ML\\\\hw\\\\hw2-data\\\\clickprediction_data\\\\'\n",
    "x_train, y_train, x_test, y_test = read_data(path)\n",
    "eta = 0.1\n",
    "lamb = 0.3 \n",
    "epsilon = 0.0005\n",
    "loss, w, w0 = batch_GD_stop(x_train, y_train, eta, lamb, epsilon)\n",
    "score = predict_score(x_test, y_test,w,w0)"
   ]
  },
  {
   "cell_type": "code",
   "execution_count": 69,
   "metadata": {
    "collapsed": false
   },
   "outputs": [
    {
     "data": {
      "image/png": "[encoded data removed]",
      "text/plain": [
       "<matplotlib.figure.Figure at 0xaf867f0>"
      ]
     },
     "metadata": {},
     "output_type": "display_data"
    }
   ],
   "source": [
    "plotting(range(0,len(loss[1:])),loss[1:])"
   ]
  },
  {
   "cell_type": "code",
   "execution_count": 70,
   "metadata": {
    "collapsed": false
   },
   "outputs": [
    {
     "data": {
      "text/plain": [
       "54.000000000000007"
      ]
     },
     "execution_count": 70,
     "metadata": {},
     "output_type": "execute_result"
    }
   ],
   "source": [
    "score"
   ]
  },
  {
   "cell_type": "markdown",
   "metadata": {},
   "source": [
    "## Question 2.5 - Implement Stochastic Gradient Descent"
   ]
  },
  {
   "cell_type": "code",
   "execution_count": 106,
   "metadata": {
    "collapsed": true
   },
   "outputs": [],
   "source": [
    "def stoch_GD(x_train, y_train, eta, lamb, k):\n",
    "    n = len(x_train)\n",
    "    d = len(x_train[0,:])\n",
    "    print \"The dimension of the x_train is: \", n,d\n",
    "    #initialize w and w0\n",
    "    w = np.zeros(d)\n",
    "    w0 = 0\n",
    "    p_y_1_ar = np.zeros(n)\n",
    "    loss_ar = np.zeros(k)\n",
    "    iter_times = 0\n",
    "    while iter_times < k*n:\n",
    "        j = iter_times % n\n",
    "        p_y_1_ar[j] = sigmoid_1(x_train, j, w, w0)\n",
    "        w0 = w0 + eta*(y_train[j]-p_y_1_ar[j])\n",
    "\n",
    "        for i in range(d):\n",
    "            w[i] = w[i] +eta*(-lamb*w[i] + x_train[j,i] * (y_train[j]-p_y_1_ar[j]))\n",
    "            \n",
    "        if iter_times%n == (n-1) and (iter_times != 0):\n",
    "            loss_ar[int(round(iter_times /n))-1] = neg_log_loss(p_y_1_ar, y_train, w, lamb)\n",
    "        iter_times += 1\n",
    "        #print iter_times,\n",
    "    return loss_ar, w, w0"
   ]
  },
  {
   "cell_type": "code",
   "execution_count": 107,
   "metadata": {
    "collapsed": false
   },
   "outputs": [
    {
     "name": "stdout",
     "output_type": "stream",
     "text": [
      "The dimension of the x_train is:  10000 54\n"
     ]
    }
   ],
   "source": [
    "path = 'E:\\\\0. PhD\\\\Autumn 2015\\\\CSE546_ML\\\\hw\\\\hw2-data\\\\clickprediction_data\\\\'\n",
    "x_train, y_train, x_test, y_test = read_data(path)\n",
    "eta = 0.1\n",
    "lamb = 0.3\n",
    "k = 1\n",
    "loss, w, w0 = stoch_GD(x_train, y_train, eta, lamb, 5)\n",
    "score = predict_score(x_test, y_test,w,w0)"
   ]
  },
  {
   "cell_type": "code",
   "execution_count": 101,
   "metadata": {
    "collapsed": false
   },
   "outputs": [
    {
     "data": {
      "text/plain": [
       "array([ 0.21524902,  0.21510627,  0.21510628,  0.21510628,  0.21510628])"
      ]
     },
     "execution_count": 101,
     "metadata": {},
     "output_type": "execute_result"
    }
   ],
   "source": [
    "loss"
   ]
  },
  {
   "cell_type": "code",
   "execution_count": 96,
   "metadata": {
    "collapsed": false
   },
   "outputs": [
    {
     "data": {
      "text/plain": [
       "54.000000000000007"
      ]
     },
     "execution_count": 96,
     "metadata": {},
     "output_type": "execute_result"
    }
   ],
   "source": [
    "score"
   ]
  },
  {
   "cell_type": "code",
   "execution_count": 102,
   "metadata": {
    "collapsed": false
   },
   "outputs": [
    {
     "name": "stdout",
     "output_type": "stream",
     "text": [
      "The dimension of the x_train is:  10000 54\n",
      "1 2 3 4 5\n"
     ]
    }
   ],
   "source": [
    "path = 'E:\\\\0. PhD\\\\Autumn 2015\\\\CSE546_ML\\\\hw\\\\hw2-data\\\\clickprediction_data\\\\'\n",
    "x_train, y_train, x_test, y_test = read_data(path)\n",
    "eta = 0.1\n",
    "lamb = 0.3 \n",
    "k = 5\n",
    "loss, w, w0 = batch_GD(x_train, y_train, eta, lamb, k)\n",
    "score = predict_score(x_test, y_test,w,w0)"
   ]
  },
  {
   "cell_type": "code",
   "execution_count": 103,
   "metadata": {
    "collapsed": false
   },
   "outputs": [
    {
     "data": {
      "text/plain": [
       "array([ 0.69934122,  0.38799052,  0.31250157,  0.28294401,  0.26841724])"
      ]
     },
     "execution_count": 103,
     "metadata": {},
     "output_type": "execute_result"
    }
   ],
   "source": [
    "loss"
   ]
  },
  {
   "cell_type": "code",
   "execution_count": 108,
   "metadata": {
    "collapsed": false
   },
   "outputs": [
    {
     "data": {
      "image/png": "[encoded data removed]",
      "text/plain": [
       "<matplotlib.figure.Figure at 0x9f32cf8>"
      ]
     },
     "metadata": {},
     "output_type": "display_data"
    }
   ],
   "source": [
    "plotting(range(1,6),loss)"
   ]
  },
  {
   "cell_type": "code",
   "execution_count": 115,
   "metadata": {
    "collapsed": true
   },
   "outputs": [],
   "source": [
    "def read_data(path):\n",
    "    \n",
    "    training_data = genfromtxt( path + 'oversampled_train.txt', delimiter=',')\n",
    "    \n",
    "    Y_train = training_data[:,0]\n",
    "    X_train = training_data[:, 1:]\n",
    "    Y_test = genfromtxt( path + 'test_label.txt', delimiter=',')\n",
    "    X_test = genfromtxt( path + 'test.txt', delimiter=',')\n",
    "    return X_train, Y_train, X_test, Y_test"
   ]
  },
  {
   "cell_type": "code",
   "execution_count": 116,
   "metadata": {
    "collapsed": false
   },
   "outputs": [
    {
     "name": "stdout",
     "output_type": "stream",
     "text": [
      "The dimension of the x_train is:  17729 54\n",
      "1 2 3 4 5\n"
     ]
    }
   ],
   "source": [
    "path = 'E:\\\\0. PhD\\\\Autumn 2015\\\\CSE546_ML\\\\hw\\\\hw2-data\\\\clickprediction_data\\\\'\n",
    "x_train, y_train, x_test, y_test = read_data(path)\n",
    "eta = 0.01\n",
    "lamb = 0.3 \n",
    "k = 5\n",
    "loss, w, w0 = batch_GD(x_train, y_train, eta, lamb, k)\n",
    "score, re1, re2 = predict_score(x_test, y_test,w,w0)"
   ]
  },
  {
   "cell_type": "code",
   "execution_count": 117,
   "metadata": {
    "collapsed": false
   },
   "outputs": [
    {
     "data": {
      "text/plain": [
       "(0.94599999999999995, 1.0, 0.9722507708119219, None)"
      ]
     },
     "execution_count": 117,
     "metadata": {},
     "output_type": "execute_result"
    }
   ],
   "source": [
    "re1"
   ]
  },
  {
   "cell_type": "code",
   "execution_count": 118,
   "metadata": {
    "collapsed": false
   },
   "outputs": [
    {
     "data": {
      "text/plain": [
       "(0.0, 0.0, 0.0, None)"
      ]
     },
     "execution_count": 118,
     "metadata": {},
     "output_type": "execute_result"
    }
   ],
   "source": [
    "re2"
   ]
  }
 ],
 "metadata": {
  "kernelspec": {
   "display_name": "Python 2",
   "language": "python",
   "name": "python2"
  },
  "language_info": {
   "codemirror_mode": {
    "name": "ipython",
    "version": 2
   },
   "file_extension": ".py",
   "mimetype": "text/x-python",
   "name": "python",
   "nbconvert_exporter": "python",
   "pygments_lexer": "ipython2",
   "version": "2.7.10"
  }
 },
 "nbformat": 4,
 "nbformat_minor": 0
}
